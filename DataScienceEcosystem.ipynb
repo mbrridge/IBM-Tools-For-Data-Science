{
 "cells": [
  {
   "cell_type": "markdown",
   "id": "3306a663-d8d7-4283-b0ab-f184dd68ea34",
   "metadata": {},
   "source": [
    "# Data Science Tools and Ecosystem"
   ]
  },
  {
   "cell_type": "markdown",
   "id": "36f22972-fd7f-41db-8b89-328ae3d04f65",
   "metadata": {},
   "source": [
    "## AUTHOR\n",
    "Max B"
   ]
  },
  {
   "cell_type": "markdown",
   "id": "a8d05a0f-7142-49d2-a2a3-ff8ef81bc4d4",
   "metadata": {},
   "source": [
    "In this notebook data science tools from langages to ecosystems will be discussed. "
   ]
  },
  {
   "cell_type": "markdown",
   "id": "bb5c3954-194b-4100-85fd-ae73bf3ca6fe",
   "metadata": {},
   "source": [
    "Objectives:\n",
    "- List popular languages for data science\n",
    "- List commonly used libraries in data science\n",
    "- List widley used tools in data science\n",
    "- Explore some basic python functionality"
   ]
  },
  {
   "cell_type": "markdown",
   "id": "56d5750f-dd9a-4906-9144-920cb0f9edba",
   "metadata": {},
   "source": [
    "Some of the popular languages that Data Scientists use are:\n",
    "1. Python\n",
    "2. R\n",
    "3. SQL"
   ]
  },
  {
   "cell_type": "markdown",
   "id": "749e5f92-abe8-4ea4-b379-5bd928e9392c",
   "metadata": {},
   "source": [
    "Some of the commonly used libraries used by Data Scientists include:\n",
    "\n",
    "1. NumPy\n",
    "2. Pandas\n",
    "3. Plotly"
   ]
  },
  {
   "cell_type": "markdown",
   "id": "75d9dd5f-bf94-4ec7-a87d-0a05501c8def",
   "metadata": {},
   "source": [
    "|Data Science Tools|\n",
    "|------------------|\n",
    "|Jupyter Lab|\n",
    "|R Studio|\n",
    "|Apache Zepplin|"
   ]
  },
  {
   "cell_type": "markdown",
   "id": "d40912d6-17fa-4ba4-8b3b-de03f96c818f",
   "metadata": {
    "tags": []
   },
   "source": [
    "### Below are a few examples of evaluating arithmetic expressions in Python"
   ]
  },
  {
   "cell_type": "code",
   "execution_count": 6,
   "id": "de11615a-c9a0-4cfe-9d1e-48acd22ae8d2",
   "metadata": {
    "tags": []
   },
   "outputs": [
    {
     "name": "stdout",
     "output_type": "stream",
     "text": [
      "The solution is: 17\n"
     ]
    }
   ],
   "source": [
    "#This a simple arithmetic expression to mutiply then add integers\n",
    "x=(3*4)+5\n",
    "print(\"The solution is:\",x)"
   ]
  },
  {
   "cell_type": "code",
   "execution_count": 20,
   "id": "840bfb4b-33d5-494a-b018-c954329bfc4a",
   "metadata": {},
   "outputs": [
    {
     "name": "stdin",
     "output_type": "stream",
     "text": [
      "How many minutes? 200\n"
     ]
    },
    {
     "name": "stdout",
     "output_type": "stream",
     "text": [
      "200 minutes is 3 hours and 20 minutes\n"
     ]
    }
   ],
   "source": [
    "#This will convert 200 minutes to hours by diving by 60, the quotient is used to calculate minutes\n",
    "m=input(\"How many minutes?\")\n",
    "h=divmod(int(m),60)\n",
    "print(m,\"minutes is\",h[0],\"hours and\",h[1],\"minutes\")"
   ]
  }
 ],
 "metadata": {
  "kernelspec": {
   "display_name": "Python 3 (ipykernel)",
   "language": "python",
   "name": "python3"
  },
  "language_info": {
   "codemirror_mode": {
    "name": "ipython",
    "version": 3
   },
   "file_extension": ".py",
   "mimetype": "text/x-python",
   "name": "python",
   "nbconvert_exporter": "python",
   "pygments_lexer": "ipython3",
   "version": "3.12.7"
  }
 },
 "nbformat": 4,
 "nbformat_minor": 5
}
